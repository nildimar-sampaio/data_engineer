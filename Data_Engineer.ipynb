{
  "nbformat": 4,
  "nbformat_minor": 0,
  "metadata": {
    "colab": {
      "provenance": [],
      "collapsed_sections": [
        "kknqshH6HYnL"
      ],
      "mount_file_id": "1qo8eFJaAeh4UCfpXWAAxE3TPVVEQ2oqc",
      "authorship_tag": "ABX9TyOdiFDBIGExz/WAm+CIqCN+",
      "include_colab_link": true
    },
    "kernelspec": {
      "name": "python3",
      "display_name": "Python 3"
    },
    "language_info": {
      "name": "python"
    }
  },
  "cells": [
    {
      "cell_type": "markdown",
      "metadata": {
        "id": "view-in-github",
        "colab_type": "text"
      },
      "source": [
        "<a href=\"https://colab.research.google.com/github/nildimar-sampaio/data_engineer/blob/main/Data_Engineer.ipynb\" target=\"_parent\"><img src=\"https://colab.research.google.com/assets/colab-badge.svg\" alt=\"Open In Colab\"/></a>"
      ]
    },
    {
      "cell_type": "markdown",
      "source": [
        "# Data Engineer Case\n",
        "**Medallion Architecture**\n",
        "\n",
        "Using Python + Pandas to manipulate the data.\n",
        "Datasets stored into Google Drive"
      ],
      "metadata": {
        "id": "fG7h7YfrF7VJ"
      }
    },
    {
      "cell_type": "code",
      "execution_count": null,
      "metadata": {
        "colab": {
          "base_uri": "https://localhost:8080/"
        },
        "id": "c2Z2jVRT7xaw",
        "outputId": "362dd239-bb7c-49a6-c6d2-1d77425ed3ab"
      },
      "outputs": [
        {
          "output_type": "stream",
          "name": "stdout",
          "text": [
            "Mounted at /content/drive\n"
          ]
        }
      ],
      "source": [
        "#Google drive integration and mount for dataset access\n",
        "from google.colab import drive\n",
        "drive.mount('/content/drive')\n"
      ]
    },
    {
      "cell_type": "markdown",
      "source": [
        "# Bronze Phase\n",
        "Checking dataset and understanding the data.\n",
        "\n",
        "Found Multiple CSVs in a multiple folders.\n",
        "\n",
        "Automatized the process on data visualize using a routine to print the\n",
        "dataframe of each CSV file from this folder."
      ],
      "metadata": {
        "id": "kknqshH6HYnL"
      }
    },
    {
      "cell_type": "code",
      "source": [
        "#Automatize on reading all CSV files from the folder 2025-01-21\n",
        "#Visualize the data\n",
        "\n",
        "import pandas as pd\n",
        "import glob\n",
        "\n",
        "path_folder = \"/content/drive/MyDrive/dataset/20250121/\"\n",
        "\n",
        "files_csv = glob.glob(f\"{path_folder}/*.csv\")\n",
        "\n",
        "for eachfile in files_csv: #loop for reading each file and printing dataframe\n",
        "    print(f\"Reading file: {eachfile}\")\n",
        "    df = pd.read_csv(eachfile)\n",
        "    print(df)\n",
        "    print(\"\\n\" + \"=*\"*40 + \"\\n\")  # print file separator text\n"
      ],
      "metadata": {
        "id": "Uj1AWnk1MxG_"
      },
      "execution_count": null,
      "outputs": []
    },
    {
      "cell_type": "code",
      "source": [
        "#Automatize on reading all CSV files from the folder 2025-01-22\n",
        "#Visualize the data\n",
        "\n",
        "import pandas as pd\n",
        "import glob\n",
        "\n",
        "path_folder = \"/content/drive/MyDrive/dataset/20250122/\"\n",
        "\n",
        "files_csv = glob.glob(f\"{path_folder}/*.csv\")\n",
        "\n",
        "for eachfile in files_csv: #loop for reading each file and printing dataframe\n",
        "    print(f\"Reading file: {eachfile}\")\n",
        "    df = pd.read_csv(eachfile)\n",
        "    print(df)\n",
        "    print(\"\\n\" + \"=*\"*40 + \"\\n\")  # print file separator text"
      ],
      "metadata": {
        "id": "4u6yjgbvHy-i"
      },
      "execution_count": null,
      "outputs": []
    },
    {
      "cell_type": "code",
      "source": [
        "#Automatize on reading all CSV files from the folder 2025-01-23\n",
        "#Visualize the data\n",
        "\n",
        "import pandas as pd\n",
        "import glob\n",
        "\n",
        "path_folder = \"/content/drive/MyDrive/dataset/20250123/\"\n",
        "\n",
        "files_csv = glob.glob(f\"{path_folder}/*.csv\")\n",
        "\n",
        "for eachfile in files_csv: #loop for reading each file and printing dataframe\n",
        "    print(f\"Reading file: {eachfile}\")\n",
        "    df = pd.read_csv(eachfile)\n",
        "    print(df)\n",
        "    print(\"\\n\" + \"=*\"*40 + \"\\n\")  # print file separator text"
      ],
      "metadata": {
        "id": "X8DRetZ7Tq4c"
      },
      "execution_count": null,
      "outputs": []
    },
    {
      "cell_type": "code",
      "source": [
        "#Automatize on reading all CSV files from the folder 2025-01-24\n",
        "#Visualize the data\n",
        "\n",
        "import pandas as pd\n",
        "import glob\n",
        "\n",
        "path_folder = \"/content/drive/MyDrive/dataset/20250124/\"\n",
        "\n",
        "files_csv = glob.glob(f\"{path_folder}/*.csv\")\n",
        "\n",
        "for eachfile in files_csv: #loop for reading each file and printing dataframe\n",
        "    print(f\"Reading file: {eachfile}\")\n",
        "    df = pd.read_csv(eachfile)\n",
        "    print(df)\n",
        "    print(\"\\n\" + \"=*\"*40 + \"\\n\")  # print file separator text"
      ],
      "metadata": {
        "id": "iuzsfpMbTrRv"
      },
      "execution_count": null,
      "outputs": []
    },
    {
      "cell_type": "code",
      "source": [
        "#Automatize on reading all CSV files from the folder 2025-01-25\n",
        "#Visualize the data\n",
        "\n",
        "import pandas as pd\n",
        "import glob\n",
        "\n",
        "path_folder = \"/content/drive/MyDrive/dataset/20250125/\"\n",
        "\n",
        "files_csv = glob.glob(f\"{path_folder}/*.csv\")\n",
        "\n",
        "for eachfile in files_csv: #loop for reading each file and printing dataframe\n",
        "    print(f\"Reading file: {eachfile}\")\n",
        "    df = pd.read_csv(eachfile)\n",
        "    print(df)\n",
        "    print(\"\\n\" + \"=*\"*40 + \"\\n\")  # print file separator text"
      ],
      "metadata": {
        "id": "Ed5Ao8_2TrmK"
      },
      "execution_count": null,
      "outputs": []
    },
    {
      "cell_type": "markdown",
      "source": [
        "Finishing the Bronze phase visualizing the data and understanding the data.\n",
        "Looks the data is related to the Nourish(Flavors) Businness Unit.\n",
        "I can see data set of ingredients, providers, recipes, and sales transactions."
      ],
      "metadata": {
        "id": "94mlg06_i4EZ"
      }
    },
    {
      "cell_type": "markdown",
      "source": [
        "# Silver Phase\n",
        "Checking data integrity and integration of sources."
      ],
      "metadata": {
        "id": "dAevR4sUlglJ"
      }
    },
    {
      "cell_type": "code",
      "source": [],
      "metadata": {
        "id": "qK9HUj52lkpv"
      },
      "execution_count": null,
      "outputs": []
    }
  ]
}